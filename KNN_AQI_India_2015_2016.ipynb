{
  "nbformat": 4,
  "nbformat_minor": 0,
  "metadata": {
    "colab": {
      "provenance": [],
      "mount_file_id": "1yBdPBragPtaCzzcU3Tr5Ug3rmnt-J3yo",
      "authorship_tag": "ABX9TyObOiz5MiD4TObJLduySpIO",
      "include_colab_link": true
    },
    "kernelspec": {
      "name": "python3",
      "display_name": "Python 3"
    },
    "language_info": {
      "name": "python"
    }
  },
  "cells": [
    {
      "cell_type": "markdown",
      "metadata": {
        "id": "view-in-github",
        "colab_type": "text"
      },
      "source": [
        "<a href=\"https://colab.research.google.com/github/OmkarArote/ML-Assignment/blob/main/KNN_AQI_India_2015_2016.ipynb\" target=\"_parent\"><img src=\"https://colab.research.google.com/assets/colab-badge.svg\" alt=\"Open In Colab\"/></a>"
      ]
    },
    {
      "cell_type": "code",
      "source": [
        "# Import the necessary libraries\n",
        "import pandas as pd\n",
        "import matplotlib.pyplot as plt\n",
        "import seaborn as sns\n",
        "from sklearn.model_selection import train_test_split\n",
        "from sklearn.neighbors import KNeighborsClassifier\n",
        "from sklearn.metrics import confusion_matrix\n",
        "from sklearn.impute import SimpleImputer\n",
        "from sklearn.metrics import classification_report"
      ],
      "metadata": {
        "id": "GCyCeTylN4Rf"
      },
      "execution_count": null,
      "outputs": []
    },
    {
      "cell_type": "markdown",
      "source": [
        "Importing the dataset"
      ],
      "metadata": {
        "id": "5iY5PH2LVjlh"
      }
    },
    {
      "cell_type": "code",
      "source": [
        "# Load the dataset\n",
        "df = pd.read_csv('/content/drive/MyDrive/Colab Notebooks/data_sets/city_day.csv')"
      ],
      "metadata": {
        "id": "7UTXj3WUN8SV"
      },
      "execution_count": null,
      "outputs": []
    },
    {
      "cell_type": "markdown",
      "source": [
        "Know your dataset"
      ],
      "metadata": {
        "id": "zueHR3uR5avl"
      }
    },
    {
      "cell_type": "code",
      "source": [
        "print('First five data of the data frame: \\n',df.head(5))\n",
        "print('===========================================================================')\n",
        "print('\\nDescription of the data frame: \\n',df.describe())\n",
        "print('===========================================================================')\n",
        "print('\\nInformation of the data frame:')\n",
        "print(df.info())\n",
        "print('===========================================================================')"
      ],
      "metadata": {
        "colab": {
          "base_uri": "https://localhost:8080/"
        },
        "id": "s7ne5c5z0-E7",
        "outputId": "cc158e82-0731-44f8-b489-db4571da54c2"
      },
      "execution_count": null,
      "outputs": [
        {
          "output_type": "stream",
          "name": "stdout",
          "text": [
            "First five data of the data frame: \n",
            "         City        Date  PM2.5  PM10     NO    NO2    NOx  NH3     CO    SO2  \\\n",
            "0  Ahmedabad  2015-01-01    NaN   NaN   0.92  18.22  17.15  NaN   0.92  27.64   \n",
            "1  Ahmedabad  2015-01-02    NaN   NaN   0.97  15.69  16.46  NaN   0.97  24.55   \n",
            "2  Ahmedabad  2015-01-03    NaN   NaN  17.40  19.30  29.70  NaN  17.40  29.07   \n",
            "3  Ahmedabad  2015-01-04    NaN   NaN   1.70  18.48  17.97  NaN   1.70  18.59   \n",
            "4  Ahmedabad  2015-01-05    NaN   NaN  22.10  21.42  37.76  NaN  22.10  39.33   \n",
            "\n",
            "       O3  Benzene  Toluene  Xylene  AQI AQI_Bucket  \n",
            "0  133.36     0.00     0.02    0.00  NaN        NaN  \n",
            "1   34.06     3.68     5.50    3.77  NaN        NaN  \n",
            "2   30.70     6.80    16.40    2.25  NaN        NaN  \n",
            "3   36.08     4.43    10.14    1.00  NaN        NaN  \n",
            "4   39.31     7.01    18.89    2.78  NaN        NaN  \n",
            "===========================================================================\n",
            "\n",
            "Description of the data frame: \n",
            "               PM2.5          PM10            NO           NO2           NOx  \\\n",
            "count  24933.000000  18391.000000  25949.000000  25946.000000  25346.000000   \n",
            "mean      67.450578    118.127103     17.574730     28.560659     32.309123   \n",
            "std       64.661449     90.605110     22.785846     24.474746     31.646011   \n",
            "min        0.040000      0.010000      0.020000      0.010000      0.000000   \n",
            "25%       28.820000     56.255000      5.630000     11.750000     12.820000   \n",
            "50%       48.570000     95.680000      9.890000     21.690000     23.520000   \n",
            "75%       80.590000    149.745000     19.950000     37.620000     40.127500   \n",
            "max      949.990000   1000.000000    390.680000    362.210000    467.630000   \n",
            "\n",
            "                NH3            CO           SO2            O3       Benzene  \\\n",
            "count  19203.000000  27472.000000  25677.000000  25509.000000  23908.000000   \n",
            "mean      23.483476      2.248598     14.531977     34.491430      3.280840   \n",
            "std       25.684275      6.962884     18.133775     21.694928     15.811136   \n",
            "min        0.010000      0.000000      0.010000      0.010000      0.000000   \n",
            "25%        8.580000      0.510000      5.670000     18.860000      0.120000   \n",
            "50%       15.850000      0.890000      9.160000     30.840000      1.070000   \n",
            "75%       30.020000      1.450000     15.220000     45.570000      3.080000   \n",
            "max      352.890000    175.810000    193.860000    257.730000    455.030000   \n",
            "\n",
            "            Toluene        Xylene           AQI  \n",
            "count  21490.000000  11422.000000  24850.000000  \n",
            "mean       8.700972      3.070128    166.463581  \n",
            "std       19.969164      6.323247    140.696585  \n",
            "min        0.000000      0.000000     13.000000  \n",
            "25%        0.600000      0.140000     81.000000  \n",
            "50%        2.970000      0.980000    118.000000  \n",
            "75%        9.150000      3.350000    208.000000  \n",
            "max      454.850000    170.370000   2049.000000  \n",
            "===========================================================================\n",
            "\n",
            "Information of the data frame:\n",
            "<class 'pandas.core.frame.DataFrame'>\n",
            "RangeIndex: 29531 entries, 0 to 29530\n",
            "Data columns (total 16 columns):\n",
            " #   Column      Non-Null Count  Dtype  \n",
            "---  ------      --------------  -----  \n",
            " 0   City        29531 non-null  object \n",
            " 1   Date        29531 non-null  object \n",
            " 2   PM2.5       24933 non-null  float64\n",
            " 3   PM10        18391 non-null  float64\n",
            " 4   NO          25949 non-null  float64\n",
            " 5   NO2         25946 non-null  float64\n",
            " 6   NOx         25346 non-null  float64\n",
            " 7   NH3         19203 non-null  float64\n",
            " 8   CO          27472 non-null  float64\n",
            " 9   SO2         25677 non-null  float64\n",
            " 10  O3          25509 non-null  float64\n",
            " 11  Benzene     23908 non-null  float64\n",
            " 12  Toluene     21490 non-null  float64\n",
            " 13  Xylene      11422 non-null  float64\n",
            " 14  AQI         24850 non-null  float64\n",
            " 15  AQI_Bucket  24850 non-null  object \n",
            "dtypes: float64(13), object(3)\n",
            "memory usage: 3.6+ MB\n",
            "None\n",
            "===========================================================================\n"
          ]
        }
      ]
    },
    {
      "cell_type": "markdown",
      "source": [
        "Dataset Preprocessing"
      ],
      "metadata": {
        "id": "8GG6BG2pVfcq"
      }
    },
    {
      "cell_type": "code",
      "source": [
        "# Impute missing values with mean value of the respective columns\n",
        "imputer = SimpleImputer(strategy='mean')\n",
        "df[['PM2.5', 'PM10', 'NO', 'NO2', 'NOx', 'NH3', 'CO', 'SO2', 'O3', 'Benzene', 'Toluene', 'Xylene']] = imputer.fit_transform(df[['PM2.5', 'PM10', 'NO', 'NO2', 'NOx', 'NH3', 'CO', 'SO2', 'O3', 'Benzene', 'Toluene', 'Xylene']])\n",
        "\n",
        "# Or we can just drop the rows with atleast one null value init\n",
        "# df = df.dropna(axis=0)\n",
        "\n",
        "# Convert 'Date' column to datetime object\n",
        "df['Date'] = pd.to_datetime(df['Date'])\n",
        "\n",
        "# Extract year from 'Date' column and store it in a new 'Year' column\n",
        "df['Year'] = df['Date'].dt.year\n",
        "\n",
        "# Print the first 5 rows to check if the 'Year' column was added successfully\n",
        "df.head()"
      ],
      "metadata": {
        "colab": {
          "base_uri": "https://localhost:8080/",
          "height": 414
        },
        "id": "qoSpf0gcN_Nx",
        "outputId": "c0fb77a7-5cae-494d-a11e-c9832762128d"
      },
      "execution_count": null,
      "outputs": [
        {
          "output_type": "stream",
          "name": "stderr",
          "text": [
            "<ipython-input-50-3d5333822ecc>:7: SettingWithCopyWarning: \n",
            "A value is trying to be set on a copy of a slice from a DataFrame.\n",
            "Try using .loc[row_indexer,col_indexer] = value instead\n",
            "\n",
            "See the caveats in the documentation: https://pandas.pydata.org/pandas-docs/stable/user_guide/indexing.html#returning-a-view-versus-a-copy\n",
            "  df['Date'] = pd.to_datetime(df['Date'])\n",
            "<ipython-input-50-3d5333822ecc>:10: SettingWithCopyWarning: \n",
            "A value is trying to be set on a copy of a slice from a DataFrame.\n",
            "Try using .loc[row_indexer,col_indexer] = value instead\n",
            "\n",
            "See the caveats in the documentation: https://pandas.pydata.org/pandas-docs/stable/user_guide/indexing.html#returning-a-view-versus-a-copy\n",
            "  df['Year'] = df['Date'].dt.year\n"
          ]
        },
        {
          "output_type": "execute_result",
          "data": {
            "text/plain": [
              "           City       Date  PM2.5    PM10    NO    NO2    NOx    NH3    CO  \\\n",
              "2123  Amaravati 2017-11-25  81.40  124.50  1.44  20.50  12.08  10.72  0.12   \n",
              "2124  Amaravati 2017-11-26  78.32  129.06  1.26  26.00  14.85  10.28  0.14   \n",
              "2125  Amaravati 2017-11-27  88.76  135.32  6.60  30.85  21.77  12.91  0.11   \n",
              "2126  Amaravati 2017-11-28  64.18  104.09  2.56  28.07  17.01  11.42  0.09   \n",
              "2127  Amaravati 2017-11-29  72.47  114.84  5.23  23.20  16.59  12.25  0.16   \n",
              "\n",
              "        SO2      O3  Benzene  Toluene  Xylene    AQI AQI_Bucket  Year  \n",
              "2123  15.24  127.09     0.20     6.50    0.06  184.0   Moderate  2017  \n",
              "2124  26.96  117.44     0.22     7.95    0.08  197.0   Moderate  2017  \n",
              "2125  33.59  111.81     0.29     7.63    0.12  198.0   Moderate  2017  \n",
              "2126  19.00  138.18     0.17     5.02    0.07  188.0   Moderate  2017  \n",
              "2127  10.55  109.74     0.21     4.71    0.08  173.0   Moderate  2017  "
            ],
            "text/html": [
              "\n",
              "  <div id=\"df-f43cb476-dffc-490e-9e67-b6fc5d3cb801\">\n",
              "    <div class=\"colab-df-container\">\n",
              "      <div>\n",
              "<style scoped>\n",
              "    .dataframe tbody tr th:only-of-type {\n",
              "        vertical-align: middle;\n",
              "    }\n",
              "\n",
              "    .dataframe tbody tr th {\n",
              "        vertical-align: top;\n",
              "    }\n",
              "\n",
              "    .dataframe thead th {\n",
              "        text-align: right;\n",
              "    }\n",
              "</style>\n",
              "<table border=\"1\" class=\"dataframe\">\n",
              "  <thead>\n",
              "    <tr style=\"text-align: right;\">\n",
              "      <th></th>\n",
              "      <th>City</th>\n",
              "      <th>Date</th>\n",
              "      <th>PM2.5</th>\n",
              "      <th>PM10</th>\n",
              "      <th>NO</th>\n",
              "      <th>NO2</th>\n",
              "      <th>NOx</th>\n",
              "      <th>NH3</th>\n",
              "      <th>CO</th>\n",
              "      <th>SO2</th>\n",
              "      <th>O3</th>\n",
              "      <th>Benzene</th>\n",
              "      <th>Toluene</th>\n",
              "      <th>Xylene</th>\n",
              "      <th>AQI</th>\n",
              "      <th>AQI_Bucket</th>\n",
              "      <th>Year</th>\n",
              "    </tr>\n",
              "  </thead>\n",
              "  <tbody>\n",
              "    <tr>\n",
              "      <th>2123</th>\n",
              "      <td>Amaravati</td>\n",
              "      <td>2017-11-25</td>\n",
              "      <td>81.40</td>\n",
              "      <td>124.50</td>\n",
              "      <td>1.44</td>\n",
              "      <td>20.50</td>\n",
              "      <td>12.08</td>\n",
              "      <td>10.72</td>\n",
              "      <td>0.12</td>\n",
              "      <td>15.24</td>\n",
              "      <td>127.09</td>\n",
              "      <td>0.20</td>\n",
              "      <td>6.50</td>\n",
              "      <td>0.06</td>\n",
              "      <td>184.0</td>\n",
              "      <td>Moderate</td>\n",
              "      <td>2017</td>\n",
              "    </tr>\n",
              "    <tr>\n",
              "      <th>2124</th>\n",
              "      <td>Amaravati</td>\n",
              "      <td>2017-11-26</td>\n",
              "      <td>78.32</td>\n",
              "      <td>129.06</td>\n",
              "      <td>1.26</td>\n",
              "      <td>26.00</td>\n",
              "      <td>14.85</td>\n",
              "      <td>10.28</td>\n",
              "      <td>0.14</td>\n",
              "      <td>26.96</td>\n",
              "      <td>117.44</td>\n",
              "      <td>0.22</td>\n",
              "      <td>7.95</td>\n",
              "      <td>0.08</td>\n",
              "      <td>197.0</td>\n",
              "      <td>Moderate</td>\n",
              "      <td>2017</td>\n",
              "    </tr>\n",
              "    <tr>\n",
              "      <th>2125</th>\n",
              "      <td>Amaravati</td>\n",
              "      <td>2017-11-27</td>\n",
              "      <td>88.76</td>\n",
              "      <td>135.32</td>\n",
              "      <td>6.60</td>\n",
              "      <td>30.85</td>\n",
              "      <td>21.77</td>\n",
              "      <td>12.91</td>\n",
              "      <td>0.11</td>\n",
              "      <td>33.59</td>\n",
              "      <td>111.81</td>\n",
              "      <td>0.29</td>\n",
              "      <td>7.63</td>\n",
              "      <td>0.12</td>\n",
              "      <td>198.0</td>\n",
              "      <td>Moderate</td>\n",
              "      <td>2017</td>\n",
              "    </tr>\n",
              "    <tr>\n",
              "      <th>2126</th>\n",
              "      <td>Amaravati</td>\n",
              "      <td>2017-11-28</td>\n",
              "      <td>64.18</td>\n",
              "      <td>104.09</td>\n",
              "      <td>2.56</td>\n",
              "      <td>28.07</td>\n",
              "      <td>17.01</td>\n",
              "      <td>11.42</td>\n",
              "      <td>0.09</td>\n",
              "      <td>19.00</td>\n",
              "      <td>138.18</td>\n",
              "      <td>0.17</td>\n",
              "      <td>5.02</td>\n",
              "      <td>0.07</td>\n",
              "      <td>188.0</td>\n",
              "      <td>Moderate</td>\n",
              "      <td>2017</td>\n",
              "    </tr>\n",
              "    <tr>\n",
              "      <th>2127</th>\n",
              "      <td>Amaravati</td>\n",
              "      <td>2017-11-29</td>\n",
              "      <td>72.47</td>\n",
              "      <td>114.84</td>\n",
              "      <td>5.23</td>\n",
              "      <td>23.20</td>\n",
              "      <td>16.59</td>\n",
              "      <td>12.25</td>\n",
              "      <td>0.16</td>\n",
              "      <td>10.55</td>\n",
              "      <td>109.74</td>\n",
              "      <td>0.21</td>\n",
              "      <td>4.71</td>\n",
              "      <td>0.08</td>\n",
              "      <td>173.0</td>\n",
              "      <td>Moderate</td>\n",
              "      <td>2017</td>\n",
              "    </tr>\n",
              "  </tbody>\n",
              "</table>\n",
              "</div>\n",
              "      <button class=\"colab-df-convert\" onclick=\"convertToInteractive('df-f43cb476-dffc-490e-9e67-b6fc5d3cb801')\"\n",
              "              title=\"Convert this dataframe to an interactive table.\"\n",
              "              style=\"display:none;\">\n",
              "        \n",
              "  <svg xmlns=\"http://www.w3.org/2000/svg\" height=\"24px\"viewBox=\"0 0 24 24\"\n",
              "       width=\"24px\">\n",
              "    <path d=\"M0 0h24v24H0V0z\" fill=\"none\"/>\n",
              "    <path d=\"M18.56 5.44l.94 2.06.94-2.06 2.06-.94-2.06-.94-.94-2.06-.94 2.06-2.06.94zm-11 1L8.5 8.5l.94-2.06 2.06-.94-2.06-.94L8.5 2.5l-.94 2.06-2.06.94zm10 10l.94 2.06.94-2.06 2.06-.94-2.06-.94-.94-2.06-.94 2.06-2.06.94z\"/><path d=\"M17.41 7.96l-1.37-1.37c-.4-.4-.92-.59-1.43-.59-.52 0-1.04.2-1.43.59L10.3 9.45l-7.72 7.72c-.78.78-.78 2.05 0 2.83L4 21.41c.39.39.9.59 1.41.59.51 0 1.02-.2 1.41-.59l7.78-7.78 2.81-2.81c.8-.78.8-2.07 0-2.86zM5.41 20L4 18.59l7.72-7.72 1.47 1.35L5.41 20z\"/>\n",
              "  </svg>\n",
              "      </button>\n",
              "      \n",
              "  <style>\n",
              "    .colab-df-container {\n",
              "      display:flex;\n",
              "      flex-wrap:wrap;\n",
              "      gap: 12px;\n",
              "    }\n",
              "\n",
              "    .colab-df-convert {\n",
              "      background-color: #E8F0FE;\n",
              "      border: none;\n",
              "      border-radius: 50%;\n",
              "      cursor: pointer;\n",
              "      display: none;\n",
              "      fill: #1967D2;\n",
              "      height: 32px;\n",
              "      padding: 0 0 0 0;\n",
              "      width: 32px;\n",
              "    }\n",
              "\n",
              "    .colab-df-convert:hover {\n",
              "      background-color: #E2EBFA;\n",
              "      box-shadow: 0px 1px 2px rgba(60, 64, 67, 0.3), 0px 1px 3px 1px rgba(60, 64, 67, 0.15);\n",
              "      fill: #174EA6;\n",
              "    }\n",
              "\n",
              "    [theme=dark] .colab-df-convert {\n",
              "      background-color: #3B4455;\n",
              "      fill: #D2E3FC;\n",
              "    }\n",
              "\n",
              "    [theme=dark] .colab-df-convert:hover {\n",
              "      background-color: #434B5C;\n",
              "      box-shadow: 0px 1px 3px 1px rgba(0, 0, 0, 0.15);\n",
              "      filter: drop-shadow(0px 1px 2px rgba(0, 0, 0, 0.3));\n",
              "      fill: #FFFFFF;\n",
              "    }\n",
              "  </style>\n",
              "\n",
              "      <script>\n",
              "        const buttonEl =\n",
              "          document.querySelector('#df-f43cb476-dffc-490e-9e67-b6fc5d3cb801 button.colab-df-convert');\n",
              "        buttonEl.style.display =\n",
              "          google.colab.kernel.accessAllowed ? 'block' : 'none';\n",
              "\n",
              "        async function convertToInteractive(key) {\n",
              "          const element = document.querySelector('#df-f43cb476-dffc-490e-9e67-b6fc5d3cb801');\n",
              "          const dataTable =\n",
              "            await google.colab.kernel.invokeFunction('convertToInteractive',\n",
              "                                                     [key], {});\n",
              "          if (!dataTable) return;\n",
              "\n",
              "          const docLinkHtml = 'Like what you see? Visit the ' +\n",
              "            '<a target=\"_blank\" href=https://colab.research.google.com/notebooks/data_table.ipynb>data table notebook</a>'\n",
              "            + ' to learn more about interactive tables.';\n",
              "          element.innerHTML = '';\n",
              "          dataTable['output_type'] = 'display_data';\n",
              "          await google.colab.output.renderOutput(dataTable, element);\n",
              "          const docLink = document.createElement('div');\n",
              "          docLink.innerHTML = docLinkHtml;\n",
              "          element.appendChild(docLink);\n",
              "        }\n",
              "      </script>\n",
              "    </div>\n",
              "  </div>\n",
              "  "
            ]
          },
          "metadata": {},
          "execution_count": 50
        }
      ]
    },
    {
      "cell_type": "code",
      "source": [
        "# Get a list of the cities that appear in both years\n",
        "cities = set(df[df['Year'] == 2015]['City']) & set(df[df['Year'] == 2016]['City'])\n",
        "cities"
      ],
      "metadata": {
        "id": "Pm4pl_siOAML",
        "colab": {
          "base_uri": "https://localhost:8080/"
        },
        "outputId": "f7b3af19-029a-4c8c-a325-517c004ad788"
      },
      "execution_count": null,
      "outputs": [
        {
          "output_type": "execute_result",
          "data": {
            "text/plain": [
              "{'Delhi', 'Hyderabad'}"
            ]
          },
          "metadata": {},
          "execution_count": 51
        }
      ]
    },
    {
      "cell_type": "code",
      "source": [
        "# Filter the dataset to include only the common cities and drop any rows with na values in the AQI_Bucket column\n",
        "df = df[df['City'].isin(cities) & df['AQI_Bucket'].notna()]"
      ],
      "metadata": {
        "id": "Sy4nGDFePh6u"
      },
      "execution_count": null,
      "outputs": []
    },
    {
      "cell_type": "markdown",
      "source": [
        "Performing EDA"
      ],
      "metadata": {
        "id": "-vZGdXeDVdof"
      }
    },
    {
      "cell_type": "code",
      "source": [
        "# Visualize the data for the year 2015\n",
        "sns.countplot(x='AQI_Bucket', data=df[df['Year'] == 2015])\n",
        "plt.title('AQI distribution for the year 2015')\n",
        "plt.show()"
      ],
      "metadata": {
        "colab": {
          "base_uri": "https://localhost:8080/",
          "height": 472
        },
        "id": "9aO0GBKHP6Oc",
        "outputId": "0e897b77-5d38-43a2-d38f-2dca34c20467"
      },
      "execution_count": null,
      "outputs": [
        {
          "output_type": "display_data",
          "data": {
            "text/plain": [
              "<Figure size 640x480 with 1 Axes>"
            ],
            "image/png": "[encoded data removed]"
          },
          "metadata": {}
        }
      ]
    },
    {
      "cell_type": "code",
      "source": [
        "# Visualize the data for the year 2016\n",
        "sns.countplot(x='AQI_Bucket', data=df[df['Year'] == 2016])\n",
        "plt.title('AQI distribution for the year 2016')\n",
        "plt.show()"
      ],
      "metadata": {
        "colab": {
          "base_uri": "https://localhost:8080/",
          "height": 472
        },
        "id": "VwReJeeUP85G",
        "outputId": "7a6d81b2-3bd8-462f-9cf8-9c94185714b8"
      },
      "execution_count": null,
      "outputs": [
        {
          "output_type": "display_data",
          "data": {
            "text/plain": [
              "<Figure size 640x480 with 1 Axes>"
            ],
            "image/png": "[encoded data removed]"
          },
          "metadata": {}
        }
      ]
    },
    {
      "cell_type": "markdown",
      "source": [
        "Performing KNN"
      ],
      "metadata": {
        "id": "ha-KwMVtVXLG"
      }
    },
    {
      "cell_type": "code",
      "source": [
        "# Split the data into training and testing sets\n",
        "X_train, X_test, y_train, y_test = train_test_split(df[['PM2.5', 'PM10', 'NO', 'NO2', 'NOx', 'NH3', 'CO', 'SO2', 'O3', 'Benzene', 'Toluene', 'Xylene']], df['AQI_Bucket'], test_size=0.2, random_state=42)\n",
        "\n",
        "# Fit a KNN classifier with k=5\n",
        "knn = KNeighborsClassifier(n_neighbors=5)\n",
        "knn.fit(X_train, y_train)\n",
        "\n",
        "# Make predictions on the test data\n",
        "y_pred = knn.predict(X_test)\n",
        "\n",
        "# Create a confusion matrix\n",
        "cm = confusion_matrix(y_test, y_pred, labels=['Good', 'Satisfactory', 'Moderate', 'Poor', 'Very Poor', 'Severe'])\n",
        "print('Confusion Matrix:')\n",
        "print(cm, '\\n')\n",
        "\n",
        "print('Performance Metric:')\n",
        "print(classification_report(y_test, y_pred, target_names=['Good', 'Satisfactory', 'Moderate', 'Poor', 'Very Poor', 'Severe']), '\\n')\n",
        "\n",
        "# Create a heatmap of the confusion matrix\n",
        "sns.heatmap(cm, annot=True, xticklabels=['Good', 'Satisfactory', 'Moderate', 'Poor', 'Very Poor', 'Severe'], yticklabels=['Good', 'Satisfactory', 'Moderate', 'Poor', 'Very Poor', 'Severe'])\n",
        "plt.xlabel('Predicted')\n",
        "plt.ylabel('Actual')\n",
        "plt.title('Confusion Matrix Heatmap')\n",
        "plt.show()"
      ],
      "metadata": {
        "colab": {
          "base_uri": "https://localhost:8080/",
          "height": 940
        },
        "id": "yvE1m9WSQC7i",
        "outputId": "a798dc5c-7d46-4eef-c9f0-6bb827227289"
      },
      "execution_count": null,
      "outputs": [
        {
          "output_type": "stream",
          "name": "stdout",
          "text": [
            "Confusion Matrix:\n",
            "[[ 27   1   0   0   0   0]\n",
            " [  4 137  10   0   0   0]\n",
            " [  0  26 194  12   0   0]\n",
            " [  0   0  13  54   6   0]\n",
            " [  0   0   4   6  49   3]\n",
            " [  0   0   0   2   8  13]] \n",
            "\n",
            "Performance Metric:\n",
            "              precision    recall  f1-score   support\n",
            "\n",
            "        Good       0.87      0.96      0.92        28\n",
            "Satisfactory       0.88      0.84      0.86       232\n",
            "    Moderate       0.73      0.74      0.73        73\n",
            "        Poor       0.84      0.91      0.87       151\n",
            "   Very Poor       0.81      0.57      0.67        23\n",
            "      Severe       0.78      0.79      0.78        62\n",
            "\n",
            "    accuracy                           0.83       569\n",
            "   macro avg       0.82      0.80      0.80       569\n",
            "weighted avg       0.83      0.83      0.83       569\n",
            " \n",
            "\n"
          ]
        },
        {
          "output_type": "display_data",
          "data": {
            "text/plain": [
              "<Figure size 640x480 with 2 Axes>"
            ],
            "image/png": "[encoded data removed]"
          },
          "metadata": {}
        }
      ]
    }
  ]
}